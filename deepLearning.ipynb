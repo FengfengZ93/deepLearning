{
 "cells": [
  {
   "cell_type": "code",
   "execution_count": 2,
   "metadata": {},
   "outputs": [],
   "source": [
    "import pandas as pd\n",
    "import numpy as np\n",
    "from numpy import random\n",
    "import matplotlib.pyplot as plt"
   ]
  },
  {
   "cell_type": "code",
   "execution_count": 3,
   "metadata": {},
   "outputs": [],
   "source": [
    "# sigmoid\n",
    "\n",
    "def sigmoid(x):\n",
    "    return 1 / (1 + np.exp(-x))"
   ]
  },
  {
   "cell_type": "code",
   "execution_count": 4,
   "metadata": {},
   "outputs": [
    {
     "data": {
      "text/plain": [
       "0.45844606828872597"
      ]
     },
     "execution_count": 4,
     "metadata": {},
     "output_type": "execute_result"
    }
   ],
   "source": [
    "sigmoid(-0.1666)"
   ]
  },
  {
   "cell_type": "code",
   "execution_count": 5,
   "metadata": {},
   "outputs": [],
   "source": [
    "def relu(x):\n",
    "    if x < 0:\n",
    "        return x\n",
    "    elif x == 0:\n",
    "        return 0.5\n",
    "    else:\n",
    "        return 1"
   ]
  },
  {
   "attachments": {},
   "cell_type": "markdown",
   "metadata": {},
   "source": [
    "## Création d'un perceptron from scratch"
   ]
  },
  {
   "attachments": {},
   "cell_type": "markdown",
   "metadata": {},
   "source": [
    "### Génération des données"
   ]
  },
  {
   "cell_type": "code",
   "execution_count": 6,
   "metadata": {},
   "outputs": [],
   "source": [
    "donnes = np.array([[1,0],\n",
    "          [1,1],\n",
    "          [0,0],\n",
    "         [0,1] ])\n",
    "resultats = np.array([[0],[1],[0],[0]])"
   ]
  },
  {
   "attachments": {},
   "cell_type": "markdown",
   "metadata": {},
   "source": [
    "### Géneration des poids"
   ]
  },
  {
   "cell_type": "code",
   "execution_count": 7,
   "metadata": {},
   "outputs": [
    {
     "data": {
      "text/plain": [
       "-0.165955990594852"
      ]
     },
     "execution_count": 7,
     "metadata": {},
     "output_type": "execute_result"
    }
   ],
   "source": [
    "random.seed(1)\n",
    "\n",
    "w11= random.uniform(-1,1)\n",
    "w11"
   ]
  },
  {
   "cell_type": "code",
   "execution_count": 8,
   "metadata": {},
   "outputs": [
    {
     "data": {
      "text/plain": [
       "-0.12801019571599248"
      ]
     },
     "execution_count": 8,
     "metadata": {},
     "output_type": "execute_result"
    }
   ],
   "source": [
    "random.seed(2)\n",
    "\n",
    "w21= random.uniform(-1,1)\n",
    "w21"
   ]
  },
  {
   "attachments": {},
   "cell_type": "markdown",
   "metadata": {},
   "source": [
    "### Ajout du biais"
   ]
  },
  {
   "cell_type": "code",
   "execution_count": 9,
   "metadata": {},
   "outputs": [],
   "source": [
    "biais = 1\n",
    "wb =0"
   ]
  },
  {
   "cell_type": "code",
   "execution_count": 10,
   "metadata": {},
   "outputs": [],
   "source": [
    "#hyperparamètres\n",
    "tauxaprentissage = 0.1\n",
    "nbepoch = 200"
   ]
  },
  {
   "attachments": {
    "image.png": {
     "image/png": "[encoded data removed]"
    }
   },
   "cell_type": "markdown",
   "metadata": {},
   "source": [
    "#### DRY > Don't repeat yourself\n",
    "1. Somme pondérée\n",
    "2. La fonction d'activation  >  à  tout les metrics, et voir laquelle à le meilleurs score (sigmoïde, relu, tanh, etc...)\n",
    "3. Calcul de l'erreur\n",
    "4. Calcul du gradient descent\n",
    "5. Calcul de la valeur d'ajustement\n",
    "6.  Calcul ddu nouveau poids\n",
    "7. Calcul du Mean Square Errror MSE (Fonction à créer) ![image.png](attachment:image.png)"
   ]
  },
  {
   "cell_type": "code",
   "execution_count": 11,
   "metadata": {},
   "outputs": [],
   "source": [
    "# sigmoïd\n",
    "\n",
    "def sigmoid1(x):\n",
    "  return (1/(1 + np.exp(-x)))"
   ]
  },
  {
   "cell_type": "code",
   "execution_count": 12,
   "metadata": {},
   "outputs": [],
   "source": [
    "def tanh(x):\n",
    "  return ((np.exp(x)-np.exp(-x)) / (np.exp(x)+np.exp(-x)))"
   ]
  },
  {
   "cell_type": "code",
   "execution_count": 13,
   "metadata": {},
   "outputs": [],
   "source": [
    "def relu(x):\n",
    "  if x > 0 :\n",
    "    return x\n",
    "  elif x == 0:\n",
    "    return 0.5\n",
    "  else:\n",
    "    return 0"
   ]
  },
  {
   "cell_type": "code",
   "execution_count": 14,
   "metadata": {},
   "outputs": [],
   "source": [
    "def softmax(x):\n",
    "    \"\"\"Compute softmax values for each sets of scores in x.\"\"\"\n",
    "    e_x = np.exp(x - np.max(x))\n",
    "    return e_x / e_x.sum(axis=0)"
   ]
  },
  {
   "cell_type": "code",
   "execution_count": 15,
   "metadata": {},
   "outputs": [],
   "source": [
    "def sommePonderee(x1,x2,xbiais, poids1, poids2, poidsbiais):\n",
    "    sommePond = x1 *poids1 + x2*poids2 + xbiais*poidsbiais\n",
    "    return sommePond\n",
    "    "
   ]
  },
  {
   "cell_type": "code",
   "execution_count": 16,
   "metadata": {},
   "outputs": [],
   "source": [
    "# DRY > Don't repeat yourself\n",
    "# Somme pondérée\n",
    "\n",
    "# La fonction d'activation  >  à  tout les metrics, et voir laquelle à le meilleurs score (sigmoïde, relu, tanh, etc...)\n",
    "def fonctionActivation(nom, sommePonderee):\n",
    "    if nom == \"sigmoïde\":\n",
    "        #fct sigmoïde\n",
    "        Activation = sigmoid1(sommePonderee)\n",
    "    elif nom == \"ReLu\":\n",
    "        #fct Relu\n",
    "        Activation = relu(sommePonderee)\n",
    "    elif nom == \"tanh\":\n",
    "        #fct TanH\n",
    "        Activation = tanh(sommePonderee)\n",
    "    else:\n",
    "        #fct softmax\n",
    "        Activation = softmax(sommePonderee)\n",
    "    \n",
    "    return Activation\n",
    "        \n",
    "# Calcul de l'erreur\n",
    "# Calcul du gradient descent\n",
    "# Calcul de la valeur d'ajustement\n",
    "# Calcul ddu nouveau poids\n",
    "def Ajustement_poids(erreur, predictions_realisees, val_input):\n",
    "    gradient = -1 * erreur * (1- predictions_realisees) * val_input\n",
    "    return gradient\n",
    "# Calcul du Mean Square Errror MSE (Fonction à créer) \n",
    "\n",
    "# def calcul_MSE(predictions_realisees, predictions_attendues): \n",
    "#    i=0 \n",
    "#    for _ in predictions_attendues: \n",
    "#        difference = predictions_attendues[i] - predictions_realisees[i] \n",
    "#        carreDifference = difference * difference \n",
    "#        somme = somme + carreDifference \n",
    "#        i += 1\n",
    "#    moyenne_quadratique = 1 / (len(predictions_attendues)) * somme \n",
    "#    return moyenne_quadratique \n",
    "\n",
    "\n",
    "def calcul_MSE(predictions_realisees, predictions_attendues): \n",
    "    return np.square(np.subtract(predictions_attendues, predictions_realisees)).mean()"
   ]
  },
  {
   "cell_type": "code",
   "execution_count": 18,
   "metadata": {},
   "outputs": [
    {
     "name": "stdout",
     "output_type": "stream",
     "text": [
      "EPOCH 1 \\ 201\n",
      "x1 , x2 - [1 0] pred_attendue - [0]\n",
      "EPOCH 1 \\ 201 - Observation: 1 \\ 4\n",
      "erreur - 0.16444903692853854\n"
     ]
    },
    {
     "ename": "NameError",
     "evalue": "name 'MSE' is not defined",
     "output_type": "error",
     "traceback": [
      "\u001b[0;31m---------------------------------------------------------------------------\u001b[0m",
      "\u001b[0;31mNameError\u001b[0m                                 Traceback (most recent call last)",
      "\u001b[0;32m/tmp/ipykernel_41477/408207724.py\u001b[0m in \u001b[0;36m<module>\u001b[0;34m\u001b[0m\n\u001b[1;32m     30\u001b[0m         \u001b[0mprint\u001b[0m\u001b[0;34m(\u001b[0m\u001b[0;34mf\"erreur - {erreur}\"\u001b[0m\u001b[0;34m)\u001b[0m\u001b[0;34m\u001b[0m\u001b[0;34m\u001b[0m\u001b[0m\n\u001b[1;32m     31\u001b[0m \u001b[0;34m\u001b[0m\u001b[0m\n\u001b[0;32m---> 32\u001b[0;31m         \u001b[0mstockagepoiDesInfos\u001b[0m \u001b[0;34m=\u001b[0m \u001b[0;34m[\u001b[0m\u001b[0mx1\u001b[0m\u001b[0;34m,\u001b[0m \u001b[0mpoids1\u001b[0m\u001b[0;34m,\u001b[0m \u001b[0mx2\u001b[0m\u001b[0;34m,\u001b[0m \u001b[0mpoids2\u001b[0m\u001b[0;34m,\u001b[0m \u001b[0mxbiais\u001b[0m\u001b[0;34m,\u001b[0m \u001b[0mpoidsbiais\u001b[0m\u001b[0;34m,\u001b[0m \u001b[0mpredictions_realisees\u001b[0m\u001b[0;34m,\u001b[0m \u001b[0mepoch\u001b[0m\u001b[0;34m,\u001b[0m \u001b[0mMSE\u001b[0m\u001b[0;34m]\u001b[0m\u001b[0;34m\u001b[0m\u001b[0;34m\u001b[0m\u001b[0m\n\u001b[0m\u001b[1;32m     33\u001b[0m         \u001b[0;31m# Màj du poids\u001b[0m\u001b[0;34m\u001b[0m\u001b[0;34m\u001b[0m\u001b[0m\n\u001b[1;32m     34\u001b[0m         \u001b[0mgradient1\u001b[0m \u001b[0;34m=\u001b[0m \u001b[0mAjustement_poids\u001b[0m\u001b[0;34m(\u001b[0m\u001b[0merreur\u001b[0m\u001b[0;34m,\u001b[0m \u001b[0mpredictions_realisees\u001b[0m\u001b[0;34m,\u001b[0m \u001b[0mx1\u001b[0m\u001b[0;34m)\u001b[0m\u001b[0;34m\u001b[0m\u001b[0;34m\u001b[0m\u001b[0m\n",
      "\u001b[0;31mNameError\u001b[0m: name 'MSE' is not defined"
     ]
    }
   ],
   "source": [
    "# On se servira \n",
    "list_epoch= []\n",
    "list_MSE = []\n",
    "for epoch in range(1, nbepoch+1):\n",
    "    i=0 \n",
    "    print(f\"EPOCH {epoch} \\ {nbepoch+1}\")\n",
    "    # boucler sur chaque lign de data\n",
    "    x1 = 1\n",
    "    x2 = 0\n",
    "    xbiais = 1\n",
    "    poidsbiais = 0\n",
    "    random.seed(1)\n",
    "    poids1 = random.uniform(-1, 1)\n",
    "    random.seed(2)\n",
    "    poids2 = random.uniform(-1,1)\n",
    "\n",
    "    taux_apprentissage = 0.1\n",
    "    \n",
    "    \n",
    "    for ligne, prediction_attendu in zip(donnes, resultats):\n",
    "        x1 = ligne[0]\n",
    "        x2 = ligne[1]\n",
    "        print(f\"x1 , x2 - {ligne} pred_attendue - {prediction_attendu}\" )\n",
    "        print(f\"EPOCH {epoch} \\ {nbepoch+1} - Observation: {i+1} \\ {len(donnes)}\")\n",
    "\n",
    "\n",
    "        sommePond = sommePonderee(x1, x2, xbiais, poids1, poids2, poidsbiais)\n",
    "        predictions_realisees = fonctionActivation(\"tanh\", sommePond)\n",
    "        erreur = prediction_attendu[0] - predictions_realisees\n",
    "        print(f\"erreur - {erreur}\")\n",
    "\n",
    "        stockagepoiDesInfos = [x1, poids1, x2, poids2, xbiais, poidsbiais, predictions_realisees, epoch, MSE]\n",
    "        # Màj du poids\n",
    "        gradient1 = Ajustement_poids(erreur, predictions_realisees, x1)\n",
    "        gradient2 = Ajustement_poids(erreur, predictions_realisees, x2)\n",
    "        gradientbiais = Ajustement_poids(erreur, predictions_realisees, xbiais)\n",
    "        ajustementPoids1 = gradient1 * taux_apprentissage\n",
    "        ajustementPoids2 = gradient2 * taux_apprentissage\n",
    "        ajustementPoidsbiais = gradientbiais * taux_apprentissage\n",
    "        poids1 = poids1 - ajustementPoids1 \n",
    "        poids2 = poids2 - ajustementPoids2 \n",
    "        poidsbiais = poidsbiais - ajustementPoidsbiais\n",
    "\n",
    "        \n",
    "        MSE = calcul_MSE(predictions_realisees, prediction_attendu)\n",
    "        i += 1\n",
    "        print(f\"MSE = {MSE }\")\n",
    "        list_MSE.append(MSE)\n",
    "    list_epoch.append(epoch)\n"
   ]
  },
  {
   "cell_type": "code",
   "execution_count": null,
   "metadata": {},
   "outputs": [
    {
     "data": {
      "text/plain": [
       "[0.03503411680428899,\n",
       " 0.03503411680428899,\n",
       " 0.03503411680428899,\n",
       " 0.03503411680428899,\n",
       " 0.03503411680428899,\n",
       " 0.03503411680428899,\n",
       " 0.03503411680428899,\n",
       " 0.03503411680428899,\n",
       " 0.03503411680428899,\n",
       " 0.03503411680428899,\n",
       " 0.03503411680428899,\n",
       " 0.03503411680428899,\n",
       " 0.03503411680428899,\n",
       " 0.03503411680428899,\n",
       " 0.03503411680428899,\n",
       " 0.03503411680428899,\n",
       " 0.03503411680428899,\n",
       " 0.03503411680428899,\n",
       " 0.03503411680428899,\n",
       " 0.03503411680428899,\n",
       " 0.03503411680428899,\n",
       " 0.03503411680428899,\n",
       " 0.03503411680428899,\n",
       " 0.03503411680428899,\n",
       " 0.03503411680428899,\n",
       " 0.03503411680428899,\n",
       " 0.03503411680428899,\n",
       " 0.03503411680428899,\n",
       " 0.03503411680428899,\n",
       " 0.03503411680428899,\n",
       " 0.03503411680428899,\n",
       " 0.03503411680428899,\n",
       " 0.03503411680428899,\n",
       " 0.03503411680428899,\n",
       " 0.03503411680428899,\n",
       " 0.03503411680428899,\n",
       " 0.03503411680428899,\n",
       " 0.03503411680428899,\n",
       " 0.03503411680428899,\n",
       " 0.03503411680428899,\n",
       " 0.03503411680428899,\n",
       " 0.03503411680428899,\n",
       " 0.03503411680428899,\n",
       " 0.03503411680428899,\n",
       " 0.03503411680428899,\n",
       " 0.03503411680428899,\n",
       " 0.03503411680428899,\n",
       " 0.03503411680428899,\n",
       " 0.03503411680428899,\n",
       " 0.03503411680428899,\n",
       " 0.03503411680428899,\n",
       " 0.03503411680428899,\n",
       " 0.03503411680428899,\n",
       " 0.03503411680428899,\n",
       " 0.03503411680428899,\n",
       " 0.03503411680428899,\n",
       " 0.03503411680428899,\n",
       " 0.03503411680428899,\n",
       " 0.03503411680428899,\n",
       " 0.03503411680428899,\n",
       " 0.03503411680428899,\n",
       " 0.03503411680428899,\n",
       " 0.03503411680428899,\n",
       " 0.03503411680428899,\n",
       " 0.03503411680428899,\n",
       " 0.03503411680428899,\n",
       " 0.03503411680428899,\n",
       " 0.03503411680428899,\n",
       " 0.03503411680428899,\n",
       " 0.03503411680428899,\n",
       " 0.03503411680428899,\n",
       " 0.03503411680428899,\n",
       " 0.03503411680428899,\n",
       " 0.03503411680428899,\n",
       " 0.03503411680428899,\n",
       " 0.03503411680428899,\n",
       " 0.03503411680428899,\n",
       " 0.03503411680428899,\n",
       " 0.03503411680428899,\n",
       " 0.03503411680428899,\n",
       " 0.03503411680428899,\n",
       " 0.03503411680428899,\n",
       " 0.03503411680428899,\n",
       " 0.03503411680428899,\n",
       " 0.03503411680428899,\n",
       " 0.03503411680428899,\n",
       " 0.03503411680428899,\n",
       " 0.03503411680428899,\n",
       " 0.03503411680428899,\n",
       " 0.03503411680428899,\n",
       " 0.03503411680428899,\n",
       " 0.03503411680428899,\n",
       " 0.03503411680428899,\n",
       " 0.03503411680428899,\n",
       " 0.03503411680428899,\n",
       " 0.03503411680428899,\n",
       " 0.03503411680428899,\n",
       " 0.03503411680428899,\n",
       " 0.03503411680428899,\n",
       " 0.03503411680428899,\n",
       " 0.03503411680428899,\n",
       " 0.03503411680428899,\n",
       " 0.03503411680428899,\n",
       " 0.03503411680428899,\n",
       " 0.03503411680428899,\n",
       " 0.03503411680428899,\n",
       " 0.03503411680428899,\n",
       " 0.03503411680428899,\n",
       " 0.03503411680428899,\n",
       " 0.03503411680428899,\n",
       " 0.03503411680428899,\n",
       " 0.03503411680428899,\n",
       " 0.03503411680428899,\n",
       " 0.03503411680428899,\n",
       " 0.03503411680428899,\n",
       " 0.03503411680428899,\n",
       " 0.03503411680428899,\n",
       " 0.03503411680428899,\n",
       " 0.03503411680428899,\n",
       " 0.03503411680428899,\n",
       " 0.03503411680428899,\n",
       " 0.03503411680428899,\n",
       " 0.03503411680428899,\n",
       " 0.03503411680428899,\n",
       " 0.03503411680428899,\n",
       " 0.03503411680428899,\n",
       " 0.03503411680428899,\n",
       " 0.03503411680428899,\n",
       " 0.03503411680428899,\n",
       " 0.03503411680428899,\n",
       " 0.03503411680428899,\n",
       " 0.03503411680428899,\n",
       " 0.03503411680428899,\n",
       " 0.03503411680428899,\n",
       " 0.03503411680428899,\n",
       " 0.03503411680428899,\n",
       " 0.03503411680428899,\n",
       " 0.03503411680428899,\n",
       " 0.03503411680428899,\n",
       " 0.03503411680428899,\n",
       " 0.03503411680428899,\n",
       " 0.03503411680428899,\n",
       " 0.03503411680428899,\n",
       " 0.03503411680428899,\n",
       " 0.03503411680428899,\n",
       " 0.03503411680428899,\n",
       " 0.03503411680428899,\n",
       " 0.03503411680428899,\n",
       " 0.03503411680428899,\n",
       " 0.03503411680428899,\n",
       " 0.03503411680428899,\n",
       " 0.03503411680428899,\n",
       " 0.03503411680428899,\n",
       " 0.03503411680428899,\n",
       " 0.03503411680428899,\n",
       " 0.03503411680428899,\n",
       " 0.03503411680428899,\n",
       " 0.03503411680428899,\n",
       " 0.03503411680428899,\n",
       " 0.03503411680428899,\n",
       " 0.03503411680428899,\n",
       " 0.03503411680428899,\n",
       " 0.03503411680428899,\n",
       " 0.03503411680428899,\n",
       " 0.03503411680428899,\n",
       " 0.03503411680428899,\n",
       " 0.03503411680428899,\n",
       " 0.03503411680428899,\n",
       " 0.03503411680428899,\n",
       " 0.03503411680428899,\n",
       " 0.03503411680428899,\n",
       " 0.03503411680428899,\n",
       " 0.03503411680428899,\n",
       " 0.03503411680428899,\n",
       " 0.03503411680428899,\n",
       " 0.03503411680428899,\n",
       " 0.03503411680428899,\n",
       " 0.03503411680428899,\n",
       " 0.03503411680428899,\n",
       " 0.03503411680428899,\n",
       " 0.03503411680428899,\n",
       " 0.03503411680428899,\n",
       " 0.03503411680428899,\n",
       " 0.03503411680428899,\n",
       " 0.03503411680428899,\n",
       " 0.03503411680428899,\n",
       " 0.03503411680428899,\n",
       " 0.03503411680428899,\n",
       " 0.03503411680428899,\n",
       " 0.03503411680428899,\n",
       " 0.03503411680428899,\n",
       " 0.03503411680428899,\n",
       " 0.03503411680428899,\n",
       " 0.03503411680428899,\n",
       " 0.03503411680428899,\n",
       " 0.03503411680428899,\n",
       " 0.03503411680428899,\n",
       " 0.03503411680428899,\n",
       " 0.03503411680428899,\n",
       " 0.03503411680428899]"
      ]
     },
     "execution_count": 86,
     "metadata": {},
     "output_type": "execute_result"
    }
   ],
   "source": [
    "# for epoch, mse in zip(list_epoch,list_MSE):\n",
    "# list_epoch\n",
    "list_MSE\n",
    "# plt.plot(list_epoch, list_MSE)\n",
    "# plt.show()"
   ]
  }
 ],
 "metadata": {
  "kernelspec": {
   "display_name": "base",
   "language": "python",
   "name": "python3"
  },
  "language_info": {
   "codemirror_mode": {
    "name": "ipython",
    "version": 3
   },
   "file_extension": ".py",
   "mimetype": "text/x-python",
   "name": "python",
   "nbconvert_exporter": "python",
   "pygments_lexer": "ipython3",
   "version": "3.10.6"
  },
  "orig_nbformat": 4
 },
 "nbformat": 4,
 "nbformat_minor": 2
}
